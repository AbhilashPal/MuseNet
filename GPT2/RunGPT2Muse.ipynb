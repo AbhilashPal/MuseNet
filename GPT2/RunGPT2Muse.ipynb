{
  "nbformat": 4,
  "nbformat_minor": 0,
  "metadata": {
    "colab": {
      "name": "RunGPT2Muse",
      "provenance": []
    },
    "kernelspec": {
      "name": "python3",
      "display_name": "Python 3"
    },
    "accelerator": "GPU"
  },
  "cells": [
    {
      "cell_type": "code",
      "metadata": {
        "id": "ejZGmXSPx2yM",
        "colab_type": "code",
        "outputId": "de6d0842-0b01-42e1-b1d5-b89db1808a12",
        "colab": {
          "base_uri": "https://localhost:8080/",
          "height": 356
        }
      },
      "source": [
        "!pip3 install gpt-2-simple"
      ],
      "execution_count": 0,
      "outputs": [
        {
          "output_type": "stream",
          "text": [
            "Collecting gpt-2-simple\n",
            "  Downloading https://files.pythonhosted.org/packages/6f/e4/a90add0c3328eed38a46c3ed137f2363b5d6a07bf13ee5d5d4d1e480b8c3/gpt_2_simple-0.7.1.tar.gz\n",
            "Requirement already satisfied: regex in /usr/local/lib/python3.6/dist-packages (from gpt-2-simple) (2019.12.20)\n",
            "Requirement already satisfied: requests in /usr/local/lib/python3.6/dist-packages (from gpt-2-simple) (2.23.0)\n",
            "Requirement already satisfied: tqdm in /usr/local/lib/python3.6/dist-packages (from gpt-2-simple) (4.41.1)\n",
            "Requirement already satisfied: numpy in /usr/local/lib/python3.6/dist-packages (from gpt-2-simple) (1.18.5)\n",
            "Collecting toposort\n",
            "  Downloading https://files.pythonhosted.org/packages/e9/8a/321cd8ea5f4a22a06e3ba30ef31ec33bea11a3443eeb1d89807640ee6ed4/toposort-1.5-py2.py3-none-any.whl\n",
            "Requirement already satisfied: idna<3,>=2.5 in /usr/local/lib/python3.6/dist-packages (from requests->gpt-2-simple) (2.9)\n",
            "Requirement already satisfied: urllib3!=1.25.0,!=1.25.1,<1.26,>=1.21.1 in /usr/local/lib/python3.6/dist-packages (from requests->gpt-2-simple) (1.24.3)\n",
            "Requirement already satisfied: chardet<4,>=3.0.2 in /usr/local/lib/python3.6/dist-packages (from requests->gpt-2-simple) (3.0.4)\n",
            "Requirement already satisfied: certifi>=2017.4.17 in /usr/local/lib/python3.6/dist-packages (from requests->gpt-2-simple) (2020.4.5.1)\n",
            "Building wheels for collected packages: gpt-2-simple\n",
            "  Building wheel for gpt-2-simple (setup.py) ... \u001b[?25l\u001b[?25hdone\n",
            "  Created wheel for gpt-2-simple: filename=gpt_2_simple-0.7.1-cp36-none-any.whl size=23581 sha256=884f26615a9a63bacdac530365cc93b39911e1a7f4f5ce6711d7aeb3b6cfbad1\n",
            "  Stored in directory: /root/.cache/pip/wheels/0c/f8/23/b53ce437504597edff76bf9c3b8de08ad716f74f6c6baaa91a\n",
            "Successfully built gpt-2-simple\n",
            "Installing collected packages: toposort, gpt-2-simple\n",
            "Successfully installed gpt-2-simple-0.7.1 toposort-1.5\n"
          ],
          "name": "stdout"
        }
      ]
    },
    {
      "cell_type": "code",
      "metadata": {
        "id": "me_XBDohg1UN",
        "colab_type": "code",
        "outputId": "930669c0-085d-4256-f4e4-efdb7ffbd2b3",
        "colab": {
          "base_uri": "https://localhost:8080/",
          "height": 877
        }
      },
      "source": [
        "!pip install tensorflow==\"1.15\""
      ],
      "execution_count": 0,
      "outputs": [
        {
          "output_type": "stream",
          "text": [
            "Collecting tensorflow==1.15\n",
            "\u001b[?25l  Downloading https://files.pythonhosted.org/packages/3f/98/5a99af92fb911d7a88a0005ad55005f35b4c1ba8d75fba02df726cd936e6/tensorflow-1.15.0-cp36-cp36m-manylinux2010_x86_64.whl (412.3MB)\n",
            "\u001b[K     |████████████████████████████████| 412.3MB 28kB/s \n",
            "\u001b[?25hRequirement already satisfied: numpy<2.0,>=1.16.0 in /usr/local/lib/python3.6/dist-packages (from tensorflow==1.15) (1.18.5)\n",
            "Requirement already satisfied: astor>=0.6.0 in /usr/local/lib/python3.6/dist-packages (from tensorflow==1.15) (0.8.1)\n",
            "Requirement already satisfied: protobuf>=3.6.1 in /usr/local/lib/python3.6/dist-packages (from tensorflow==1.15) (3.10.0)\n",
            "Collecting tensorboard<1.16.0,>=1.15.0\n",
            "\u001b[?25l  Downloading https://files.pythonhosted.org/packages/1e/e9/d3d747a97f7188f48aa5eda486907f3b345cd409f0a0850468ba867db246/tensorboard-1.15.0-py3-none-any.whl (3.8MB)\n",
            "\u001b[K     |████████████████████████████████| 3.8MB 28.7MB/s \n",
            "\u001b[?25hCollecting tensorflow-estimator==1.15.1\n",
            "\u001b[?25l  Downloading https://files.pythonhosted.org/packages/de/62/2ee9cd74c9fa2fa450877847ba560b260f5d0fb70ee0595203082dafcc9d/tensorflow_estimator-1.15.1-py2.py3-none-any.whl (503kB)\n",
            "\u001b[K     |████████████████████████████████| 512kB 41.6MB/s \n",
            "\u001b[?25hRequirement already satisfied: keras-preprocessing>=1.0.5 in /usr/local/lib/python3.6/dist-packages (from tensorflow==1.15) (1.1.2)\n",
            "Requirement already satisfied: six>=1.10.0 in /usr/local/lib/python3.6/dist-packages (from tensorflow==1.15) (1.12.0)\n",
            "Requirement already satisfied: grpcio>=1.8.6 in /usr/local/lib/python3.6/dist-packages (from tensorflow==1.15) (1.29.0)\n",
            "Requirement already satisfied: wheel>=0.26 in /usr/local/lib/python3.6/dist-packages (from tensorflow==1.15) (0.34.2)\n",
            "Collecting gast==0.2.2\n",
            "  Downloading https://files.pythonhosted.org/packages/4e/35/11749bf99b2d4e3cceb4d55ca22590b0d7c2c62b9de38ac4a4a7f4687421/gast-0.2.2.tar.gz\n",
            "Requirement already satisfied: opt-einsum>=2.3.2 in /usr/local/lib/python3.6/dist-packages (from tensorflow==1.15) (3.2.1)\n",
            "Requirement already satisfied: termcolor>=1.1.0 in /usr/local/lib/python3.6/dist-packages (from tensorflow==1.15) (1.1.0)\n",
            "Requirement already satisfied: wrapt>=1.11.1 in /usr/local/lib/python3.6/dist-packages (from tensorflow==1.15) (1.12.1)\n",
            "Requirement already satisfied: absl-py>=0.7.0 in /usr/local/lib/python3.6/dist-packages (from tensorflow==1.15) (0.9.0)\n",
            "Requirement already satisfied: google-pasta>=0.1.6 in /usr/local/lib/python3.6/dist-packages (from tensorflow==1.15) (0.2.0)\n",
            "Requirement already satisfied: keras-applications>=1.0.8 in /usr/local/lib/python3.6/dist-packages (from tensorflow==1.15) (1.0.8)\n",
            "Requirement already satisfied: setuptools in /usr/local/lib/python3.6/dist-packages (from protobuf>=3.6.1->tensorflow==1.15) (47.1.1)\n",
            "Requirement already satisfied: markdown>=2.6.8 in /usr/local/lib/python3.6/dist-packages (from tensorboard<1.16.0,>=1.15.0->tensorflow==1.15) (3.2.2)\n",
            "Requirement already satisfied: werkzeug>=0.11.15 in /usr/local/lib/python3.6/dist-packages (from tensorboard<1.16.0,>=1.15.0->tensorflow==1.15) (1.0.1)\n",
            "Requirement already satisfied: h5py in /usr/local/lib/python3.6/dist-packages (from keras-applications>=1.0.8->tensorflow==1.15) (2.10.0)\n",
            "Requirement already satisfied: importlib-metadata; python_version < \"3.8\" in /usr/local/lib/python3.6/dist-packages (from markdown>=2.6.8->tensorboard<1.16.0,>=1.15.0->tensorflow==1.15) (1.6.0)\n",
            "Requirement already satisfied: zipp>=0.5 in /usr/local/lib/python3.6/dist-packages (from importlib-metadata; python_version < \"3.8\"->markdown>=2.6.8->tensorboard<1.16.0,>=1.15.0->tensorflow==1.15) (3.1.0)\n",
            "Building wheels for collected packages: gast\n",
            "  Building wheel for gast (setup.py) ... \u001b[?25l\u001b[?25hdone\n",
            "  Created wheel for gast: filename=gast-0.2.2-cp36-none-any.whl size=7540 sha256=501698d44dd516897a7843201e47f2d2f3c3dce63aa34d1f039341bd4381278c\n",
            "  Stored in directory: /root/.cache/pip/wheels/5c/2e/7e/a1d4d4fcebe6c381f378ce7743a3ced3699feb89bcfbdadadd\n",
            "Successfully built gast\n",
            "\u001b[31mERROR: tensorflow-probability 0.10.0 has requirement gast>=0.3.2, but you'll have gast 0.2.2 which is incompatible.\u001b[0m\n",
            "Installing collected packages: tensorboard, tensorflow-estimator, gast, tensorflow\n",
            "  Found existing installation: tensorboard 2.2.2\n",
            "    Uninstalling tensorboard-2.2.2:\n",
            "      Successfully uninstalled tensorboard-2.2.2\n",
            "  Found existing installation: tensorflow-estimator 2.2.0\n",
            "    Uninstalling tensorflow-estimator-2.2.0:\n",
            "      Successfully uninstalled tensorflow-estimator-2.2.0\n",
            "  Found existing installation: gast 0.3.3\n",
            "    Uninstalling gast-0.3.3:\n",
            "      Successfully uninstalled gast-0.3.3\n",
            "  Found existing installation: tensorflow 2.2.0\n",
            "    Uninstalling tensorflow-2.2.0:\n",
            "      Successfully uninstalled tensorflow-2.2.0\n",
            "Successfully installed gast-0.2.2 tensorboard-1.15.0 tensorflow-1.15.0 tensorflow-estimator-1.15.1\n"
          ],
          "name": "stdout"
        }
      ]
    },
    {
      "cell_type": "code",
      "metadata": {
        "id": "RfpRCAFIQn1r",
        "colab_type": "code",
        "colab": {}
      },
      "source": [
        "import gpt_2_simple as gpt2\n",
        "import os\n",
        "import requests"
      ],
      "execution_count": 0,
      "outputs": []
    },
    {
      "cell_type": "code",
      "metadata": {
        "id": "5FB5ICUb-o8Z",
        "colab_type": "code",
        "colab": {}
      },
      "source": [
        "\n",
        "\n",
        "model_name = \"124M\"\n",
        "if not os.path.isdir(os.path.join(\"models\", model_name)):\n",
        "\tprint(f\"Downloading {model_name} model...\")\n",
        "\tgpt2.download_gpt2(model_name=model_name)   # model is saved into current directory under /models/124M/\n",
        "\n",
        "\n",
        "file_name = \"Data2_encoded.txt\"\n",
        "if not os.path.isfile(file_name):\n",
        "\turl = \"https://raw.githubusercontent.com/AbhilashPal/weblab/master/dat_encoded.txt\"\n",
        "\tdata = requests.get(url)\n",
        "\t\n",
        "\twith open(file_name, 'w') as f:\n",
        "\t\tf.write(data.text)\n",
        "    \n",
        "\n"
      ],
      "execution_count": 0,
      "outputs": []
    },
    {
      "cell_type": "code",
      "metadata": {
        "id": "CrBm9CycdSGe",
        "colab_type": "code",
        "outputId": "06259153-aba2-437b-fa2a-6f9ba2eb6ee8",
        "colab": {
          "base_uri": "https://localhost:8080/",
          "height": 1000
        }
      },
      "source": [
        "sess = gpt2.start_tf_sess()\n",
        "gpt2.finetune(sess,\n",
        "              file_name,\n",
        "              model_name=model_name,\n",
        "              steps=1000)   # steps is max number of training steps\n",
        "\n"
      ],
      "execution_count": 0,
      "outputs": [
        {
          "output_type": "stream",
          "text": [
            "WARNING:tensorflow:From /usr/local/lib/python3.6/dist-packages/gpt_2_simple/src/sample.py:17: where (from tensorflow.python.ops.array_ops) is deprecated and will be removed in a future version.\n",
            "Instructions for updating:\n",
            "Use tf.where in 2.0, which has the same broadcast rule as np.where\n",
            "Loading checkpoint models/124M/model.ckpt\n",
            "INFO:tensorflow:Restoring parameters from models/124M/model.ckpt\n"
          ],
          "name": "stdout"
        },
        {
          "output_type": "stream",
          "text": [
            "\r  0%|          | 0/1 [00:00<?, ?it/s]"
          ],
          "name": "stderr"
        },
        {
          "output_type": "stream",
          "text": [
            "Loading dataset...\n"
          ],
          "name": "stdout"
        },
        {
          "output_type": "stream",
          "text": [
            "\r100%|██████████| 1/1 [00:04<00:00,  4.10s/it]\n"
          ],
          "name": "stderr"
        },
        {
          "output_type": "stream",
          "text": [
            "dataset has 1143792 tokens\n",
            "Training...\n",
            "[1 | 8.47] loss=2.02 avg=2.02\n",
            "[2 | 10.61] loss=2.05 avg=2.04\n",
            "[3 | 12.76] loss=1.79 avg=1.95\n",
            "[4 | 14.91] loss=1.93 avg=1.95\n",
            "[5 | 17.08] loss=1.76 avg=1.91\n",
            "[6 | 19.24] loss=1.63 avg=1.86\n",
            "[7 | 21.41] loss=1.79 avg=1.85\n",
            "[8 | 23.58] loss=1.63 avg=1.82\n",
            "[9 | 25.75] loss=1.53 avg=1.79\n",
            "[10 | 27.92] loss=1.42 avg=1.75\n",
            "[11 | 30.10] loss=1.52 avg=1.73\n",
            "[12 | 32.28] loss=1.43 avg=1.70\n",
            "[13 | 34.46] loss=1.52 avg=1.69\n",
            "[14 | 36.64] loss=1.40 avg=1.67\n",
            "[15 | 38.82] loss=1.32 avg=1.64\n",
            "[16 | 41.01] loss=1.28 avg=1.62\n",
            "[17 | 43.21] loss=1.24 avg=1.59\n",
            "[18 | 45.40] loss=1.31 avg=1.58\n",
            "[19 | 47.59] loss=1.28 avg=1.56\n",
            "[20 | 49.80] loss=1.12 avg=1.53\n",
            "[21 | 52.00] loss=1.35 avg=1.52\n",
            "[22 | 54.20] loss=1.32 avg=1.51\n",
            "[23 | 56.41] loss=1.27 avg=1.50\n",
            "[24 | 58.63] loss=1.17 avg=1.49\n",
            "[25 | 60.85] loss=1.07 avg=1.47\n",
            "[26 | 63.07] loss=1.21 avg=1.46\n",
            "[27 | 65.28] loss=1.06 avg=1.44\n",
            "[28 | 67.51] loss=1.04 avg=1.42\n",
            "[29 | 69.75] loss=0.99 avg=1.41\n",
            "[30 | 71.99] loss=1.30 avg=1.40\n",
            "[31 | 74.24] loss=1.22 avg=1.40\n",
            "[32 | 76.48] loss=1.24 avg=1.39\n",
            "[33 | 78.72] loss=0.98 avg=1.38\n",
            "[34 | 80.97] loss=1.08 avg=1.37\n",
            "[35 | 83.22] loss=1.27 avg=1.36\n",
            "[36 | 85.47] loss=1.10 avg=1.35\n",
            "[37 | 87.72] loss=0.92 avg=1.34\n",
            "[38 | 89.98] loss=0.96 avg=1.33\n",
            "[39 | 92.25] loss=1.16 avg=1.32\n",
            "[40 | 94.51] loss=1.18 avg=1.32\n",
            "[41 | 96.77] loss=1.23 avg=1.32\n",
            "[42 | 99.04] loss=0.98 avg=1.31\n",
            "[43 | 101.32] loss=1.25 avg=1.30\n",
            "[44 | 103.59] loss=1.22 avg=1.30\n",
            "[45 | 105.88] loss=0.95 avg=1.29\n",
            "[46 | 108.18] loss=1.24 avg=1.29\n",
            "[47 | 110.47] loss=1.07 avg=1.29\n",
            "[48 | 112.76] loss=1.00 avg=1.28\n",
            "[49 | 115.05] loss=0.87 avg=1.27\n",
            "[50 | 117.34] loss=0.87 avg=1.26\n",
            "[51 | 119.65] loss=1.09 avg=1.25\n",
            "[52 | 121.95] loss=0.79 avg=1.24\n",
            "[53 | 124.26] loss=0.95 avg=1.24\n",
            "[54 | 126.57] loss=0.94 avg=1.23\n",
            "[55 | 128.88] loss=0.95 avg=1.22\n",
            "[56 | 131.20] loss=1.00 avg=1.22\n",
            "[57 | 133.53] loss=1.04 avg=1.21\n",
            "[58 | 135.84] loss=0.88 avg=1.20\n",
            "[59 | 138.16] loss=0.97 avg=1.20\n",
            "[60 | 140.49] loss=1.08 avg=1.20\n",
            "[61 | 142.83] loss=0.99 avg=1.19\n",
            "[62 | 145.17] loss=0.95 avg=1.19\n",
            "[63 | 147.51] loss=0.95 avg=1.18\n",
            "[64 | 149.85] loss=0.99 avg=1.18\n",
            "[65 | 152.20] loss=0.99 avg=1.17\n",
            "[66 | 154.55] loss=0.98 avg=1.17\n",
            "[67 | 156.92] loss=1.14 avg=1.17\n",
            "[68 | 159.27] loss=1.06 avg=1.17\n",
            "[69 | 161.64] loss=1.04 avg=1.17\n",
            "[70 | 164.03] loss=0.83 avg=1.16\n",
            "[71 | 166.40] loss=1.08 avg=1.16\n",
            "[72 | 168.78] loss=0.89 avg=1.15\n",
            "[73 | 171.15] loss=0.88 avg=1.15\n",
            "[74 | 173.53] loss=0.90 avg=1.14\n",
            "[75 | 175.92] loss=0.90 avg=1.14\n",
            "[76 | 178.29] loss=0.70 avg=1.13\n",
            "[77 | 180.67] loss=0.76 avg=1.12\n",
            "[78 | 183.05] loss=0.99 avg=1.12\n",
            "[79 | 185.43] loss=0.91 avg=1.12\n",
            "[80 | 187.80] loss=0.87 avg=1.11\n",
            "[81 | 190.17] loss=0.97 avg=1.11\n",
            "[82 | 192.53] loss=0.91 avg=1.11\n",
            "[83 | 194.91] loss=0.85 avg=1.10\n",
            "[84 | 197.29] loss=0.89 avg=1.10\n",
            "[85 | 199.65] loss=0.87 avg=1.09\n",
            "[86 | 202.01] loss=0.94 avg=1.09\n",
            "[87 | 204.37] loss=0.79 avg=1.09\n",
            "[88 | 206.72] loss=0.81 avg=1.08\n",
            "[89 | 209.07] loss=0.76 avg=1.08\n",
            "[90 | 211.43] loss=0.95 avg=1.07\n",
            "[91 | 213.79] loss=0.88 avg=1.07\n",
            "[92 | 216.15] loss=1.02 avg=1.07\n",
            "[93 | 218.50] loss=0.85 avg=1.07\n",
            "[94 | 220.86] loss=0.81 avg=1.06\n",
            "[95 | 223.22] loss=0.92 avg=1.06\n",
            "[96 | 225.56] loss=0.90 avg=1.06\n",
            "[97 | 227.91] loss=0.87 avg=1.05\n",
            "[98 | 230.26] loss=0.86 avg=1.05\n",
            "[99 | 232.62] loss=0.79 avg=1.05\n",
            "[100 | 234.98] loss=0.97 avg=1.05\n",
            "======== SAMPLE 1 ========\n",
            "3|\"D\"dd dd/2f/2 \"G\"BG \"C\"EF/2|\"Em\"e/2f/2 g/2A/2G/2 -f/2G/2A/2|\\\n",
            "\"D\"d/2c/2B/2=d/2 A/2F/2G/2A/2|\"D\"D/2D/2A/2G/2 -d/2E/2B/2G/2|\"Am\"c/2e-e/2c/2B/2 \"A7\"af/2g/2|\\\n",
            "\"D/f/2d/2E/2D/2|A/2A/2f/2A/2 \"Am\"cA/2a/2|\n",
            "\"D\"f/2f/2a/2f/2 d/2c/2B/2A/2|\"D\"D f/2d/2c/2F/2 A/2F/2G/2A/2|\"D\"D/2D/2A/2G/2 -d/2f/2d/2c/2B/2|\n",
            "\"D\"dd dd/2f/2 \"G\"BG \"C\"EF/2|\"Em\"e/2f/2 g/2A/2G/2 -f/2G/2A/2|\\\n",
            "\"D\"d/2c/2B/2=d/2 A/2F/2G/2A/2|\"D\"D/2D/2A/2G/2 -d/2E/2B/2G/2|\n",
            "\"Am\"c/2e-e/2c/2B/2 \"A7\"af/2g/2|\\\n",
            "\"D/f/2d/2E/2D/2|A/2A/2f/2A/2 \"Am\"cA/2a/2|\n",
            "\"D\"f/2f/2a/2f/2 d/2c/2B/2A/2|\"D\"D f/2d/2c/2F/2 A/2F/2G/2A/2|\n",
            "\"D/f/2d/2E/2D/2|A/2A/2f/2A/2 \"Am\"cA/2a/2|\n",
            "\"D/f/2d/2E/2D/2|A/2A/2f/2A/2 \"Am\"cA/2a/2|\"A7\"c/2B/2d/2A/2 \"Am\"cA/2A/2:|<|endoftext|>\n",
            "<|startoftext|>~^Bm:| A [~@\n",
            "X: 26\n",
            "T:Bonkers Hornpipe\n",
            "% Nottingham Music Database\n",
            "S:Pauline, via Phil Rowe\n",
            "M:6/8\n",
            "K:D\n",
            "A/2G/2|:\"D\"F/2A/2F/2F/2 A/2G/2A/2|d/2A/2F/2 B/2A/2B/2|\"Em\"E/2D/2E/2 F/2F/2G/2|\\\n",
            "D\"\"A7\"F/2A/2F/2F/2 A/2^G/2A/2B/2|\"A7\"F/2A/2F/2F/2 A,\"A,/2G/2A/2^d/2 G|\"D\"F/2A/2F/2F/2 A/2G/2A/2|d/2F/2G/2 F/2F/2G/2A/2|\\\n",
            "\"F#m\"A/2d/2F/2F/2 \"A7\"e/2D/2F/2G/2|\\\n",
            "\"D\"F/2A/2F/2F/2 A/2G/2A/2B/2|d/2A/2F/2F/2 A/2^G/2A/2B/2|\n",
            "\"A7\"F/2A/2F/2F/2 A/2G/2A/2B/2|d/2F/2G/2 F/2F/2G/2A/2|\"D\"D/2D/2A/2G\n",
            "\n",
            "[101 | 248.74] loss=0.82 avg=1.04\n",
            "[102 | 251.10] loss=0.72 avg=1.04\n",
            "[103 | 253.46] loss=1.08 avg=1.04\n",
            "[104 | 255.83] loss=0.81 avg=1.03\n",
            "[105 | 258.20] loss=0.77 avg=1.03\n",
            "[106 | 260.57] loss=0.74 avg=1.03\n",
            "[107 | 262.94] loss=0.85 avg=1.02\n",
            "[108 | 265.31] loss=0.79 avg=1.02\n",
            "[109 | 267.70] loss=0.85 avg=1.02\n",
            "[110 | 270.07] loss=0.86 avg=1.01\n",
            "[111 | 272.45] loss=0.91 avg=1.01\n",
            "[112 | 274.83] loss=0.87 avg=1.01\n",
            "[113 | 277.18] loss=0.81 avg=1.01\n",
            "[114 | 279.56] loss=0.96 avg=1.01\n",
            "[115 | 281.93] loss=0.79 avg=1.00\n",
            "[116 | 284.30] loss=0.89 avg=1.00\n",
            "[117 | 286.67] loss=0.90 avg=1.00\n",
            "[118 | 289.04] loss=0.84 avg=1.00\n",
            "[119 | 291.40] loss=0.88 avg=1.00\n",
            "[120 | 293.77] loss=0.92 avg=1.00\n",
            "[121 | 296.13] loss=0.91 avg=0.99\n",
            "[122 | 298.51] loss=0.80 avg=0.99\n",
            "[123 | 300.87] loss=0.77 avg=0.99\n",
            "[124 | 303.22] loss=0.71 avg=0.98\n",
            "[125 | 305.59] loss=0.78 avg=0.98\n",
            "[126 | 307.96] loss=0.66 avg=0.98\n",
            "[127 | 310.31] loss=0.78 avg=0.97\n",
            "[128 | 312.68] loss=0.75 avg=0.97\n",
            "[129 | 315.05] loss=0.62 avg=0.97\n",
            "[130 | 317.40] loss=0.79 avg=0.96\n",
            "[131 | 319.76] loss=1.01 avg=0.96\n",
            "[132 | 322.12] loss=0.67 avg=0.96\n",
            "[133 | 324.49] loss=0.78 avg=0.96\n",
            "[134 | 326.85] loss=0.82 avg=0.96\n",
            "[135 | 329.21] loss=0.89 avg=0.96\n",
            "[136 | 331.58] loss=0.73 avg=0.95\n",
            "[137 | 333.95] loss=0.77 avg=0.95\n",
            "[138 | 336.31] loss=0.67 avg=0.95\n",
            "[139 | 338.67] loss=0.83 avg=0.94\n",
            "[140 | 341.04] loss=0.84 avg=0.94\n",
            "[141 | 343.39] loss=0.85 avg=0.94\n",
            "[142 | 345.76] loss=0.88 avg=0.94\n",
            "[143 | 348.12] loss=0.76 avg=0.94\n",
            "[144 | 350.48] loss=0.84 avg=0.94\n",
            "[145 | 352.85] loss=0.76 avg=0.94\n",
            "[146 | 355.22] loss=0.72 avg=0.93\n",
            "[147 | 357.59] loss=0.85 avg=0.93\n",
            "[148 | 359.94] loss=0.87 avg=0.93\n",
            "[149 | 362.30] loss=1.00 avg=0.93\n",
            "[150 | 364.67] loss=0.74 avg=0.93\n",
            "[151 | 367.02] loss=0.73 avg=0.93\n",
            "[152 | 369.37] loss=0.68 avg=0.92\n",
            "[153 | 371.74] loss=0.74 avg=0.92\n",
            "[154 | 374.09] loss=0.81 avg=0.92\n",
            "[155 | 376.45] loss=0.75 avg=0.92\n",
            "[156 | 378.80] loss=0.82 avg=0.92\n",
            "[157 | 381.16] loss=0.61 avg=0.91\n",
            "[158 | 383.51] loss=0.73 avg=0.91\n",
            "[159 | 385.86] loss=0.70 avg=0.91\n",
            "[160 | 388.21] loss=0.73 avg=0.91\n",
            "[161 | 390.57] loss=0.79 avg=0.90\n",
            "[162 | 392.93] loss=0.63 avg=0.90\n",
            "[163 | 395.28] loss=0.65 avg=0.90\n",
            "[164 | 397.64] loss=0.68 avg=0.89\n",
            "[165 | 400.00] loss=0.66 avg=0.89\n",
            "[166 | 402.36] loss=0.78 avg=0.89\n",
            "[167 | 404.72] loss=0.84 avg=0.89\n",
            "[168 | 407.08] loss=0.82 avg=0.89\n",
            "[169 | 409.44] loss=0.65 avg=0.89\n",
            "[170 | 411.80] loss=0.73 avg=0.88\n",
            "[171 | 414.16] loss=0.78 avg=0.88\n",
            "[172 | 416.51] loss=0.79 avg=0.88\n",
            "[173 | 418.88] loss=0.70 avg=0.88\n",
            "[174 | 421.24] loss=0.82 avg=0.88\n",
            "[175 | 423.61] loss=0.83 avg=0.88\n",
            "[176 | 425.97] loss=0.76 avg=0.88\n",
            "[177 | 428.33] loss=0.85 avg=0.88\n",
            "[178 | 430.70] loss=0.72 avg=0.87\n",
            "[179 | 433.05] loss=0.59 avg=0.87\n",
            "[180 | 435.42] loss=0.77 avg=0.87\n",
            "[181 | 437.79] loss=0.81 avg=0.87\n",
            "[182 | 440.15] loss=0.64 avg=0.87\n",
            "[183 | 442.52] loss=0.76 avg=0.87\n",
            "[184 | 444.88] loss=0.71 avg=0.86\n",
            "[185 | 447.24] loss=0.85 avg=0.86\n",
            "[186 | 449.60] loss=0.88 avg=0.86\n",
            "[187 | 451.97] loss=0.66 avg=0.86\n",
            "[188 | 454.34] loss=0.66 avg=0.86\n",
            "[189 | 456.71] loss=0.65 avg=0.86\n",
            "[190 | 459.07] loss=0.67 avg=0.85\n",
            "[191 | 461.44] loss=0.76 avg=0.85\n",
            "[192 | 463.80] loss=0.80 avg=0.85\n",
            "[193 | 466.16] loss=1.00 avg=0.85\n",
            "[194 | 468.54] loss=0.69 avg=0.85\n",
            "[195 | 470.90] loss=0.82 avg=0.85\n",
            "[196 | 473.27] loss=0.59 avg=0.85\n",
            "[197 | 475.64] loss=0.86 avg=0.85\n",
            "[198 | 478.01] loss=0.73 avg=0.85\n",
            "[199 | 480.37] loss=0.81 avg=0.85\n",
            "[200 | 482.74] loss=0.61 avg=0.84\n",
            "======== SAMPLE 1 ========\n",
            "2/4A/4G/4F/4A/4|\\\n",
            "\"D\"D/2B/4A/4G/4F/4A/4|\n",
            "\"G\"G/4G/4A/4B/4c/4|\"D\"dd/2d/4B/4|\"E7\"f/2e/4d/4c/4c/4|\n",
            "\"G\"d/4A/4B/4G/4F/4A/4|a/3d/4e/4f/4d/4|\\\n",
            "\"A7\"e/4B/4A/2G/4G/4A/4|\\\n",
            "\"D\"A/4D/4e/4D/4F/4A/2|\"G\"G/4G/4A/4B/4c/4|\"D\"dd/2d/4B/4|\"E7\"f/2e/4d/4c/4c/4|\n",
            "\"G\"d/4A/4B/4G/4F/4A/4|a/3d/4e/4d/4c/4|\"D\"dd/2d/4B/4|\\\n",
            "\"A7\"f/2e/4d/4c/4c/4|\n",
            "\"G\"d/4A/4B/4G/4F/4A/4|\"G\"G/4G/4A/4B/4c/4|\"D\"dd/2d/4B/4|\\\n",
            "\"E7\"f/2e/4d/4c/4c/4|\"D\"dd/2d/4B/4|\"A7\"f/2e/4d/4c/4c/4|\\\n",
            " [1\"D#m\"ef d||<|endoftext|>\n",
            "<|startoftext|>~^~@\n",
            "X: 22\n",
            "T:Little Jack London\n",
            "% Nottingham Music Database\n",
            "Y:AAB\n",
            "S:via PR\n",
            "M:4/4\n",
            "L:1/4\n",
            "K:D\n",
            "d/2c/2|:\"D\"A/3A/2A/2F/2 \"A7/e\"cA|\"D\"D3-|\"D\"D/2A/2F/2F/2|d/2c/2d/2c/2|\\\n",
            "\"G\"BB/2B/2/2|\"C\"\"D\"AA,|\n",
            "\"F\"c/2A/2F/2A/2 cA|\"D7\"D3-|\"D\"A/2^G/2E/2F/2 \"A7\"G/2A/2E/2G/2|\\\n",
            "\"D\"FD d::\n",
            "f/2e/2|\"D\"A/2B/2A/2F/2 de|d/2c/2d/2c/2|cB|\"G\"A3-|\"G\"D/2^G/2E/2D/2 \"E7\"BG|\\\n",
            "\"A7\"EF G:|\n",
            "f/2e/2|\"D\"A/2B/2A/2F/2 de|d/2c/2d/2c/2|cB|\\\n",
            "\"G\"A^G/2F/2E/2D/2 \"E7\"GF|\"A7\"E^E/2E/2 ||\n",
            "f/2e/2|\"D\"A/2B/2A/2F/2 de|d/2c/2d/2c/2|cB|\"G\"A3-|\"G\"D/2^G/2E/2D/2 \"E7\"BG|\\\n",
            "\"A7\"EF G:|<|endoftext|>\n",
            "<|startoftext|>~^A|\"D7\"d A|\"G\"G_dB -G | \"A7\"A,G|\"D\"d~@\n",
            "X: 82\n",
            "T:The New Gower's Tree\n",
            "% Nottingham Music Database\n",
            "S:Athole p45, via Phil Rowe\n",
            "M:6/8\n",
            "K:G\n",
            "d|\"G\"G2 |||:\"G\"G2 Bd|B2 \"A7\"cA|d2 -d2|\"D7\"dA B|\"G\"G2 |||:\"G\"G2\n",
            "\n",
            "[201 | 495.50] loss=0.79 avg=0.84\n",
            "[202 | 497.87] loss=0.70 avg=0.84\n",
            "[203 | 500.23] loss=0.78 avg=0.84\n",
            "[204 | 502.60] loss=0.81 avg=0.84\n",
            "[205 | 504.96] loss=0.75 avg=0.84\n",
            "[206 | 507.33] loss=0.76 avg=0.84\n",
            "[207 | 509.68] loss=0.67 avg=0.84\n",
            "[208 | 512.05] loss=0.66 avg=0.84\n",
            "[209 | 514.42] loss=0.80 avg=0.83\n",
            "[210 | 516.79] loss=0.67 avg=0.83\n",
            "[211 | 519.16] loss=0.74 avg=0.83\n",
            "[212 | 521.52] loss=0.78 avg=0.83\n",
            "[213 | 523.89] loss=0.60 avg=0.83\n",
            "[214 | 526.25] loss=0.71 avg=0.83\n",
            "[215 | 528.62] loss=0.70 avg=0.83\n",
            "[216 | 530.97] loss=0.77 avg=0.83\n",
            "[217 | 533.34] loss=0.70 avg=0.82\n",
            "[218 | 535.71] loss=0.69 avg=0.82\n",
            "[219 | 538.07] loss=0.70 avg=0.82\n",
            "[220 | 540.44] loss=0.70 avg=0.82\n",
            "[221 | 542.80] loss=0.83 avg=0.82\n",
            "[222 | 545.17] loss=0.60 avg=0.82\n",
            "[223 | 547.54] loss=0.71 avg=0.82\n",
            "[224 | 549.91] loss=0.70 avg=0.81\n",
            "[225 | 552.28] loss=0.67 avg=0.81\n",
            "[226 | 554.64] loss=0.66 avg=0.81\n",
            "[227 | 557.00] loss=0.73 avg=0.81\n",
            "[228 | 559.36] loss=0.63 avg=0.81\n",
            "[229 | 561.73] loss=0.88 avg=0.81\n",
            "[230 | 564.10] loss=0.66 avg=0.81\n",
            "[231 | 566.47] loss=0.69 avg=0.81\n",
            "[232 | 568.83] loss=0.65 avg=0.80\n",
            "[233 | 571.19] loss=0.79 avg=0.80\n",
            "[234 | 573.55] loss=0.63 avg=0.80\n",
            "[235 | 575.91] loss=0.58 avg=0.80\n",
            "[236 | 578.27] loss=0.74 avg=0.80\n",
            "[237 | 580.63] loss=0.65 avg=0.80\n",
            "[238 | 583.00] loss=0.58 avg=0.80\n",
            "[239 | 585.37] loss=0.60 avg=0.79\n",
            "[240 | 587.72] loss=0.68 avg=0.79\n",
            "[241 | 590.09] loss=0.67 avg=0.79\n",
            "[242 | 592.46] loss=0.67 avg=0.79\n",
            "[243 | 594.83] loss=0.74 avg=0.79\n",
            "[244 | 597.20] loss=0.60 avg=0.79\n",
            "[245 | 599.56] loss=0.60 avg=0.78\n",
            "[246 | 601.94] loss=0.59 avg=0.78\n",
            "[247 | 604.30] loss=0.55 avg=0.78\n",
            "[248 | 606.66] loss=0.57 avg=0.78\n",
            "[249 | 609.03] loss=0.74 avg=0.78\n",
            "[250 | 611.39] loss=0.59 avg=0.78\n",
            "[251 | 613.75] loss=0.68 avg=0.77\n",
            "[252 | 616.12] loss=0.67 avg=0.77\n",
            "[253 | 618.49] loss=0.75 avg=0.77\n",
            "[254 | 620.86] loss=0.71 avg=0.77\n",
            "[255 | 623.22] loss=0.73 avg=0.77\n",
            "[256 | 625.59] loss=0.74 avg=0.77\n",
            "[257 | 627.95] loss=0.69 avg=0.77\n",
            "[258 | 630.31] loss=0.66 avg=0.77\n",
            "[259 | 632.68] loss=0.53 avg=0.77\n",
            "[260 | 635.06] loss=0.70 avg=0.77\n",
            "[261 | 637.42] loss=0.69 avg=0.77\n",
            "[262 | 639.79] loss=0.70 avg=0.76\n",
            "[263 | 642.16] loss=0.62 avg=0.76\n",
            "[264 | 644.53] loss=0.57 avg=0.76\n",
            "[265 | 646.90] loss=0.63 avg=0.76\n",
            "[266 | 649.27] loss=0.69 avg=0.76\n",
            "[267 | 651.64] loss=0.62 avg=0.76\n",
            "[268 | 654.02] loss=0.63 avg=0.76\n",
            "[269 | 656.38] loss=0.78 avg=0.76\n",
            "[270 | 658.76] loss=0.59 avg=0.75\n",
            "[271 | 661.11] loss=0.71 avg=0.75\n",
            "[272 | 663.48] loss=0.79 avg=0.75\n",
            "[273 | 665.84] loss=0.64 avg=0.75\n",
            "[274 | 668.21] loss=0.88 avg=0.75\n",
            "[275 | 670.58] loss=0.71 avg=0.75\n",
            "[276 | 672.95] loss=0.67 avg=0.75\n",
            "[277 | 675.32] loss=0.85 avg=0.75\n",
            "[278 | 677.69] loss=0.62 avg=0.75\n",
            "[279 | 680.06] loss=0.66 avg=0.75\n",
            "[280 | 682.44] loss=0.73 avg=0.75\n",
            "[281 | 684.81] loss=0.64 avg=0.75\n",
            "[282 | 687.18] loss=0.74 avg=0.75\n",
            "[283 | 689.54] loss=0.67 avg=0.75\n",
            "[284 | 691.91] loss=0.72 avg=0.75\n",
            "[285 | 694.27] loss=0.66 avg=0.75\n",
            "[286 | 696.64] loss=0.76 avg=0.75\n",
            "[287 | 698.99] loss=0.67 avg=0.75\n",
            "[288 | 701.36] loss=0.64 avg=0.75\n",
            "[289 | 703.73] loss=0.78 avg=0.75\n",
            "[290 | 706.10] loss=0.79 avg=0.75\n",
            "[291 | 708.47] loss=0.66 avg=0.75\n",
            "[292 | 710.83] loss=0.71 avg=0.75\n",
            "[293 | 713.19] loss=0.53 avg=0.74\n",
            "[294 | 715.56] loss=0.56 avg=0.74\n",
            "[295 | 717.94] loss=0.72 avg=0.74\n",
            "[296 | 720.30] loss=0.61 avg=0.74\n",
            "[297 | 722.66] loss=0.64 avg=0.74\n",
            "[298 | 725.02] loss=0.65 avg=0.74\n",
            "[299 | 727.38] loss=0.73 avg=0.74\n",
            "[300 | 729.75] loss=0.74 avg=0.74\n",
            "======== SAMPLE 1 ========\n",
            "Am\"edB \"C#m\"ABc \"A\"cAd \"D\"dcB \"D\"Bdd:|\n",
            "\"D7\"a2f ag ag=f \"A\"ecA \"G\"B2d|\"D\"fdA ecA ^AecA|\"A\"c2e a2e \"D7\"f3/2e/2|\\\n",
            "\"G\"g2g fed \"A\"cAA|\n",
            "\"D\"A2c c2e age|\"G\"d3 dcB \"D\"Bcd|\"Em\"edB \"A7\"Ag B2e|\n",
            "\"Dm\"f3 edB \"G\"dcB|\"C#\"Ace A2f|\"Am\"edc A2B|\"D7\"Afe \"G\"dgB|\"D7\"Ace d2c|\"G\"BGG AG=f=e|\\\n",
            "\"G\"g2g fed \"D7\"cBA|\n",
            "\"G\"GAB B2B| [1\"D7\"cBA DGA|'G'B \"D\"cBc|| <|endoftext|>\n",
            "<|startoftext|>~^A3/2B/2|\"G\"GB:| PR\n",
            "M:4/4\n",
            "L:1/4 D\"cd %~@\n",
            "X: 43\n",
            "T:Dancing With The Stars\n",
            "% Nottingham Music Database\n",
            "S:T O'Mearie Collection, via PR\n",
            "M:4/4\n",
            "L:1/4\n",
            "K:G\n",
            "\"G\"GB \"A\"A3/2B/2|\"D7\"AB \"A\"c2|\"G\"BGG \"A7\"AG|\"D\"FAD \"D7\"DEF|\"G\"G3/2A/2B/2c/2 \"G\"dg2\\\n",
            ":|\n",
            "\"D7\"d/2c/2B/2d/2 \"A\"e/2f/2g/2e/2|\"D\"f/2e/2f/2g/2 f\"A\"g2|\"D7\"f/2e/2f/2g/2 \"A7\"a/2f/2e/2=^f/2|\\\n",
            "\"G\"gG G::\n",
            "\"G\"g/2f/2g/2a/2 \"Em\"b2|\"Am\"a2 \"D\"ag/2f/2|\"G\"b/2a/2b/2a/2 f/2f/2g/2e/2|\\\n",
            "\"G\"d/2e/2f/2g/2 e2|\"D7\"d/2c/2B/2A/2 \"G\" G||<|endoftext|>\n",
            "<|startoftext|>~^Ef|\"Am\"a3a|~@\n",
            "X: 18\n",
            "T:Bonny Bunch\n",
            "% Nottingham Music Database\n",
            "N:A(ABc)2Bc\n",
            "A,2B,|\"Am\"edB ef|\"Am\"a3a|\"Em\"gf fed|\"A7\"eA e2|\n",
            "\"D\"d2c e^df|\"G\"b2 fed|[1\"Am\"\"Gm\"\"Gm\"A^G G:|[2 G4 \"Am\"A2:|\n",
            "|:\"Am\"e ef ef|\"Dm\"a^g a^g|\"L\"ag gfe|[1 \"Am\"\"Gm\"\"Gm\"A g2e||\n",
            "\"Am\"e ef ef|\"Dm\"a^g a^g|\"Am\"\"Ge\"ag \"A7\"efe|\"Dm\"dA ABc|\"G\"B3d|\"Gm\"gfg fed|\n",
            "|\"C\"e^f ef|\"Am\"a^g gfe|[1\"Am\"\"Gm\"\"Gm\"A ^G3||<|endoftext|>\n",
            "<|startoftext|>~^~@\n",
            "X: 43\n",
            "T:Dancing With The Stars\n",
            "% Nottingham Music Database\n",
            "S:T O'Mearie Collection, via PR\n",
            "M:4/4\n",
            "L:1/4\n",
            "K:G\n",
            "\"G\"GB \"A\"A3/2B/2|\"D7\"AB \"A\"c2|\"G\"BGG \"A7\"AG|\"D\"FAD \"D7\"DE\n",
            "\n",
            "[301 | 742.34] loss=0.60 avg=0.74\n",
            "[302 | 744.71] loss=0.68 avg=0.74\n",
            "[303 | 747.08] loss=0.74 avg=0.74\n",
            "[304 | 749.45] loss=0.67 avg=0.73\n",
            "[305 | 751.80] loss=0.71 avg=0.73\n",
            "[306 | 754.18] loss=0.67 avg=0.73\n",
            "[307 | 756.54] loss=0.53 avg=0.73\n",
            "[308 | 758.90] loss=0.64 avg=0.73\n",
            "[309 | 761.26] loss=0.60 avg=0.73\n",
            "[310 | 763.63] loss=0.67 avg=0.73\n",
            "[311 | 765.99] loss=0.69 avg=0.73\n",
            "[312 | 768.36] loss=0.66 avg=0.73\n",
            "[313 | 770.72] loss=0.59 avg=0.73\n",
            "[314 | 773.08] loss=0.68 avg=0.73\n",
            "[315 | 775.45] loss=0.62 avg=0.72\n",
            "[316 | 777.82] loss=0.70 avg=0.72\n",
            "[317 | 780.18] loss=0.55 avg=0.72\n",
            "[318 | 782.54] loss=0.68 avg=0.72\n",
            "[319 | 784.91] loss=0.68 avg=0.72\n",
            "[320 | 787.29] loss=0.71 avg=0.72\n",
            "[321 | 789.65] loss=0.63 avg=0.72\n",
            "[322 | 792.02] loss=0.74 avg=0.72\n",
            "[323 | 794.38] loss=0.63 avg=0.72\n",
            "[324 | 796.75] loss=0.59 avg=0.72\n",
            "[325 | 799.10] loss=0.53 avg=0.72\n",
            "[326 | 801.47] loss=0.60 avg=0.72\n",
            "[327 | 803.84] loss=0.56 avg=0.71\n",
            "[328 | 806.20] loss=0.69 avg=0.71\n",
            "[329 | 808.57] loss=0.59 avg=0.71\n",
            "[330 | 810.93] loss=0.52 avg=0.71\n",
            "[331 | 813.30] loss=0.65 avg=0.71\n",
            "[332 | 815.66] loss=0.68 avg=0.71\n",
            "[333 | 818.01] loss=0.66 avg=0.71\n",
            "[334 | 820.36] loss=0.62 avg=0.71\n",
            "[335 | 822.72] loss=0.62 avg=0.71\n",
            "[336 | 825.10] loss=0.55 avg=0.71\n",
            "[337 | 827.47] loss=0.75 avg=0.71\n",
            "[338 | 829.83] loss=0.53 avg=0.70\n",
            "[339 | 832.19] loss=0.63 avg=0.70\n",
            "[340 | 834.56] loss=0.51 avg=0.70\n",
            "[341 | 836.91] loss=0.67 avg=0.70\n",
            "[342 | 839.28] loss=0.64 avg=0.70\n",
            "[343 | 841.63] loss=0.65 avg=0.70\n",
            "[344 | 844.00] loss=0.64 avg=0.70\n",
            "[345 | 846.36] loss=0.67 avg=0.70\n",
            "[346 | 848.72] loss=0.72 avg=0.70\n",
            "[347 | 851.09] loss=0.64 avg=0.70\n",
            "[348 | 853.45] loss=0.62 avg=0.70\n",
            "[349 | 855.81] loss=0.69 avg=0.70\n",
            "[350 | 858.17] loss=0.59 avg=0.70\n",
            "[351 | 860.53] loss=0.71 avg=0.70\n",
            "[352 | 862.88] loss=0.72 avg=0.70\n",
            "[353 | 865.25] loss=0.52 avg=0.70\n",
            "[354 | 867.60] loss=0.66 avg=0.69\n",
            "[355 | 869.95] loss=0.65 avg=0.69\n",
            "[356 | 872.32] loss=0.62 avg=0.69\n",
            "[357 | 874.69] loss=0.57 avg=0.69\n",
            "[358 | 877.04] loss=0.65 avg=0.69\n",
            "[359 | 879.41] loss=0.67 avg=0.69\n",
            "[360 | 881.78] loss=0.56 avg=0.69\n",
            "[361 | 884.14] loss=0.61 avg=0.69\n",
            "[362 | 886.48] loss=0.58 avg=0.69\n",
            "[363 | 888.83] loss=0.69 avg=0.69\n",
            "[364 | 891.18] loss=0.67 avg=0.69\n",
            "[365 | 893.55] loss=0.61 avg=0.69\n",
            "[366 | 895.92] loss=0.67 avg=0.69\n",
            "[367 | 898.27] loss=0.57 avg=0.69\n",
            "[368 | 900.64] loss=0.66 avg=0.69\n",
            "[369 | 903.00] loss=0.55 avg=0.68\n",
            "[370 | 905.35] loss=0.71 avg=0.68\n",
            "[371 | 907.72] loss=0.60 avg=0.68\n",
            "[372 | 910.09] loss=0.52 avg=0.68\n",
            "[373 | 912.45] loss=0.64 avg=0.68\n",
            "[374 | 914.82] loss=0.65 avg=0.68\n",
            "[375 | 917.18] loss=0.60 avg=0.68\n",
            "[376 | 919.54] loss=0.69 avg=0.68\n",
            "[377 | 921.90] loss=0.64 avg=0.68\n",
            "[378 | 924.26] loss=0.61 avg=0.68\n",
            "[379 | 926.62] loss=0.73 avg=0.68\n",
            "[380 | 928.98] loss=0.60 avg=0.68\n",
            "[381 | 931.34] loss=0.59 avg=0.68\n",
            "[382 | 933.69] loss=0.55 avg=0.68\n",
            "[383 | 936.06] loss=0.48 avg=0.67\n",
            "[384 | 938.43] loss=0.55 avg=0.67\n",
            "[385 | 940.79] loss=0.62 avg=0.67\n",
            "[386 | 943.16] loss=0.66 avg=0.67\n",
            "[387 | 945.52] loss=0.68 avg=0.67\n",
            "[388 | 947.88] loss=0.70 avg=0.67\n",
            "[389 | 950.24] loss=0.72 avg=0.67\n",
            "[390 | 952.61] loss=0.55 avg=0.67\n",
            "[391 | 954.98] loss=0.72 avg=0.67\n",
            "[392 | 957.34] loss=0.67 avg=0.67\n",
            "[393 | 959.70] loss=0.65 avg=0.67\n",
            "[394 | 962.07] loss=0.76 avg=0.67\n",
            "[395 | 964.42] loss=0.66 avg=0.67\n",
            "[396 | 966.79] loss=0.62 avg=0.67\n",
            "[397 | 969.15] loss=0.64 avg=0.67\n",
            "[398 | 971.50] loss=0.63 avg=0.67\n",
            "[399 | 973.85] loss=0.58 avg=0.67\n",
            "[400 | 976.21] loss=0.52 avg=0.67\n",
            "======== SAMPLE 1 ========\n",
            "illy G3/2A/2|A3/2A/2G3/2B/2^A3/2B/2|d2e3/2d|a3/2A/2B3/2=c/2|d2e3/2d|gfaf3/2c/2|aB3/2c/2d3/2c/2|\n",
            "d2B3/2A/2|d2e3/2f^ga3/2d|d2B3/2B/2B3/2A/2(3A3/2B3/2A/2B3/2A/2e/2f/2g|\n",
            "d2B2A3/2B/2^A/2|d2e3/2d|gfaf3/2c/2|A3/2A/2B3/2=c/2|d2e3/2d|gfaf3/2c/2|d2B3/2A/2B3/2A/2B3/2A/2e/2f/2g|\n",
            "d2B2A3/2B/2^A/2|d2e3/2d|gfaf3/2c/2|A3/2A/2B3/2=c/2|d2F2A3/2B/2c/2G/2|d2A3/2B/2A3/2B/2A/2B3/2A/2e/2f/2g|\n",
            "d2F2A3/2B/2c/2d/2e/2f/2g/2a/2g/2f/2a/2g/2a/2f/2e/2f/2|\n",
            "d2B3/2A/2B3/2A/2f/2e/2=(3f/2e/2A3/2B,/2A,3A,3B,3B,2A,2F,2E,3D,3,2 ||<|endoftext|>\n",
            "<|startoftext|>~^~@\n",
            "X: 57\n",
            "T:Jig Sheets\n",
            "% Nottingham Music Database\n",
            "S:Kevin Briggs, via EF\n",
            "Y:ABCB\n",
            "M:6/8\n",
            "K:D\n",
            "P:A\n",
            "A|\"D\"F2A \"G\"G2A|\"D\"ABA AFA|\"G\"GE^F G2A|\"D\"ABA AFA|\"G\"G3 B2d|\n",
            "P:B\n",
            "\"A7\"A^GA ^GAG|\"D\"ABA AFA|\"G\"GE^F G2A|\"D\"AFA AFA|\n",
            "P:C\n",
            "|:B/2c/2|\"D\"d2d d2c|\"G\"d2d d2c|\"D\"d2f fga|\"G\"g2g g2g|\"D\"f3 d2:|\n",
            "P:D\n",
            "|:f/2g/2|\"D\"a/2g/2f/2e/2d/2 f/2g/2|\"D\"a/2g/2f/2e/2d/2 f/2g/2|\"G\"d/2c/2d/2B/2 \"A7\"A2A|\n",
            "\"D\"ff/2b/2 f/2g/2|\"D\"a/2g/2f/2e/2d/2 ff/2g/2|\"D\"a/2g/2f/2e/2d/2 f/2g/2|\\\n",
            "\"G\"d/2c/2d/2B/2 \"A7\"A2A|\n",
            "\"D\"ff/2b/2 f/2g/2|\"D\"a/2g/2f/2e/2d/2 f/2g/2|\"G\"d/2c/2d/2B/2 \"D\"A,3A/3G/2A/2|\"G\"B2d|\n",
            "\"C#m\"c/2B/2c/2d/2 e/2c/2|\"Bm\"fd/2g/2 \"D\"f/2g/2|\"D\"a/2g/2f/2e/2d/2 f\n",
            "\n",
            "[401 | 988.82] loss=0.60 avg=0.67\n",
            "[402 | 991.19] loss=0.64 avg=0.67\n",
            "[403 | 993.55] loss=0.52 avg=0.67\n",
            "[404 | 995.92] loss=0.47 avg=0.67\n",
            "[405 | 998.28] loss=0.63 avg=0.66\n",
            "[406 | 1000.63] loss=0.72 avg=0.67\n",
            "[407 | 1002.99] loss=0.62 avg=0.66\n",
            "[408 | 1005.35] loss=0.69 avg=0.67\n",
            "[409 | 1007.71] loss=0.67 avg=0.67\n",
            "[410 | 1010.07] loss=0.55 avg=0.66\n",
            "[411 | 1012.43] loss=0.66 avg=0.66\n",
            "[412 | 1014.79] loss=0.65 avg=0.66\n",
            "[413 | 1017.15] loss=0.53 avg=0.66\n",
            "[414 | 1019.51] loss=0.66 avg=0.66\n",
            "[415 | 1021.87] loss=0.58 avg=0.66\n",
            "[416 | 1024.24] loss=0.55 avg=0.66\n",
            "[417 | 1026.60] loss=0.62 avg=0.66\n",
            "[418 | 1028.97] loss=0.61 avg=0.66\n",
            "[419 | 1031.33] loss=0.76 avg=0.66\n",
            "[420 | 1033.69] loss=0.59 avg=0.66\n",
            "[421 | 1036.05] loss=0.45 avg=0.66\n",
            "[422 | 1038.41] loss=0.52 avg=0.66\n",
            "[423 | 1040.77] loss=0.71 avg=0.66\n",
            "[424 | 1043.14] loss=0.60 avg=0.66\n",
            "[425 | 1045.50] loss=0.52 avg=0.65\n",
            "[426 | 1047.87] loss=0.59 avg=0.65\n",
            "[427 | 1050.23] loss=0.53 avg=0.65\n",
            "[428 | 1052.58] loss=0.73 avg=0.65\n",
            "[429 | 1054.95] loss=0.66 avg=0.65\n",
            "[430 | 1057.32] loss=0.56 avg=0.65\n",
            "[431 | 1059.68] loss=0.54 avg=0.65\n",
            "[432 | 1062.04] loss=0.64 avg=0.65\n",
            "[433 | 1064.39] loss=0.59 avg=0.65\n",
            "[434 | 1066.76] loss=0.52 avg=0.65\n",
            "[435 | 1069.12] loss=0.50 avg=0.65\n",
            "[436 | 1071.48] loss=0.66 avg=0.65\n",
            "[437 | 1073.84] loss=0.53 avg=0.65\n",
            "[438 | 1076.21] loss=0.53 avg=0.65\n",
            "[439 | 1078.58] loss=0.64 avg=0.65\n",
            "[440 | 1080.93] loss=0.62 avg=0.65\n",
            "[441 | 1083.29] loss=0.57 avg=0.64\n",
            "[442 | 1085.67] loss=0.56 avg=0.64\n",
            "[443 | 1088.03] loss=0.64 avg=0.64\n",
            "[444 | 1090.39] loss=0.64 avg=0.64\n",
            "[445 | 1092.76] loss=0.39 avg=0.64\n",
            "[446 | 1095.13] loss=0.61 avg=0.64\n",
            "[447 | 1097.50] loss=0.52 avg=0.64\n",
            "[448 | 1099.87] loss=0.61 avg=0.64\n",
            "[449 | 1102.23] loss=0.56 avg=0.64\n",
            "[450 | 1104.61] loss=0.66 avg=0.64\n",
            "[451 | 1106.98] loss=0.64 avg=0.64\n",
            "[452 | 1109.36] loss=0.61 avg=0.64\n",
            "[453 | 1111.72] loss=0.69 avg=0.64\n",
            "[454 | 1114.09] loss=0.53 avg=0.64\n",
            "[455 | 1116.47] loss=0.57 avg=0.64\n",
            "[456 | 1118.83] loss=0.55 avg=0.64\n",
            "[457 | 1121.20] loss=0.72 avg=0.64\n",
            "[458 | 1123.57] loss=0.57 avg=0.64\n",
            "[459 | 1125.93] loss=0.51 avg=0.64\n",
            "[460 | 1128.29] loss=0.51 avg=0.63\n",
            "[461 | 1130.65] loss=0.66 avg=0.63\n",
            "[462 | 1133.01] loss=0.53 avg=0.63\n",
            "[463 | 1135.38] loss=0.64 avg=0.63\n",
            "[464 | 1137.75] loss=0.58 avg=0.63\n",
            "[465 | 1140.11] loss=0.55 avg=0.63\n",
            "[466 | 1142.48] loss=0.57 avg=0.63\n",
            "[467 | 1144.84] loss=0.40 avg=0.63\n",
            "[468 | 1147.20] loss=0.59 avg=0.63\n",
            "[469 | 1149.57] loss=0.49 avg=0.63\n",
            "[470 | 1151.94] loss=0.60 avg=0.63\n",
            "[471 | 1154.31] loss=0.61 avg=0.63\n",
            "[472 | 1156.66] loss=0.62 avg=0.63\n",
            "[473 | 1159.03] loss=0.56 avg=0.63\n",
            "[474 | 1161.40] loss=0.60 avg=0.63\n",
            "[475 | 1163.77] loss=0.60 avg=0.63\n",
            "[476 | 1166.14] loss=0.50 avg=0.62\n",
            "[477 | 1168.52] loss=0.58 avg=0.62\n",
            "[478 | 1170.88] loss=0.61 avg=0.62\n",
            "[479 | 1173.26] loss=0.53 avg=0.62\n",
            "[480 | 1175.63] loss=0.53 avg=0.62\n",
            "[481 | 1178.00] loss=0.68 avg=0.62\n",
            "[482 | 1180.37] loss=0.48 avg=0.62\n",
            "[483 | 1182.73] loss=0.50 avg=0.62\n",
            "[484 | 1185.11] loss=0.54 avg=0.62\n",
            "[485 | 1187.49] loss=0.47 avg=0.62\n"
          ],
          "name": "stdout"
        }
      ]
    },
    {
      "cell_type": "code",
      "metadata": {
        "id": "X2rlRCWET-uK",
        "colab_type": "code",
        "outputId": "7d2c8a7f-1934-4f4f-ee06-3084e3a8c421",
        "colab": {
          "base_uri": "https://localhost:8080/",
          "height": 168
        }
      },
      "source": [
        "!zip -r /content/model.zip /content/models"
      ],
      "execution_count": 0,
      "outputs": [
        {
          "output_type": "stream",
          "text": [
            "  adding: content/models/ (stored 0%)\n",
            "  adding: content/models/124M/ (stored 0%)\n",
            "  adding: content/models/124M/checkpoint (deflated 42%)\n",
            "  adding: content/models/124M/model.ckpt.index (deflated 62%)\n",
            "  adding: content/models/124M/encoder.json (deflated 67%)\n",
            "  adding: content/models/124M/vocab.bpe (deflated 53%)\n",
            "  adding: content/models/124M/hparams.json (deflated 28%)\n",
            "  adding: content/models/124M/model.ckpt.meta (deflated 91%)\n",
            "  adding: content/models/124M/model.ckpt.data-00000-of-00001 (deflated 7%)\n"
          ],
          "name": "stdout"
        }
      ]
    },
    {
      "cell_type": "code",
      "metadata": {
        "id": "kdf1ceJxUUxH",
        "colab_type": "code",
        "colab": {}
      },
      "source": [
        "!pip install -U -q PyDrive\n",
        "from pydrive.auth import GoogleAuth\n",
        "from pydrive.drive import GoogleDrive\n",
        "from google.colab import auth\n",
        "from oauth2client.client import GoogleCredentials"
      ],
      "execution_count": 0,
      "outputs": []
    },
    {
      "cell_type": "code",
      "metadata": {
        "id": "jqKYRdwAW1kN",
        "colab_type": "code",
        "colab": {}
      },
      "source": [
        "# Authenticate and create the PyDrive client.\n",
        "# This only needs to be done once in a notebook.\n",
        "auth.authenticate_user()\n",
        "gauth = GoogleAuth()\n",
        "gauth.credentials = GoogleCredentials.get_application_default()\n",
        "drive = GoogleDrive(gauth)"
      ],
      "execution_count": 0,
      "outputs": []
    },
    {
      "cell_type": "code",
      "metadata": {
        "id": "9Tp_u8m7P_vs",
        "colab_type": "code",
        "outputId": "6674b125-c420-4509-919d-4c7a8cbbcff7",
        "colab": {
          "base_uri": "https://localhost:8080/",
          "height": 121
        }
      },
      "source": [
        "from google.colab import drive as dr\n",
        "dr.mount(\"/content/drive/\")"
      ],
      "execution_count": 0,
      "outputs": [
        {
          "output_type": "stream",
          "text": [
            "Go to this URL in a browser: https://accounts.google.com/o/oauth2/auth?client_id=947318989803-6bn6qk8qdgf4n4g3pfee6491hc0brc4i.apps.googleusercontent.com&redirect_uri=urn%3aietf%3awg%3aoauth%3a2.0%3aoob&response_type=code&scope=email%20https%3a%2f%2fwww.googleapis.com%2fauth%2fdocs.test%20https%3a%2f%2fwww.googleapis.com%2fauth%2fdrive%20https%3a%2f%2fwww.googleapis.com%2fauth%2fdrive.photos.readonly%20https%3a%2f%2fwww.googleapis.com%2fauth%2fpeopleapi.readonly\n",
            "\n",
            "Enter your authorization code:\n",
            "··········\n",
            "Mounted at /content/drive/\n"
          ],
          "name": "stdout"
        }
      ]
    },
    {
      "cell_type": "code",
      "metadata": {
        "id": "i13rQKiAWYJa",
        "colab_type": "code",
        "colab": {}
      },
      "source": [
        "# Create & upload a file.\n",
        "# uploaded = drive.CreateFile({'title': 'model.zip'})\n",
        "# uploaded.SetContentFile('model.zip')\n",
        "# uploaded.Upload()\n",
        "# print('Uploaded file with ID {}'.format(uploaded.get('id')))"
      ],
      "execution_count": 0,
      "outputs": []
    },
    {
      "cell_type": "code",
      "metadata": {
        "id": "tMyNWiOYQFSo",
        "colab_type": "code",
        "colab": {}
      },
      "source": [
        "!mkdir checkpoint"
      ],
      "execution_count": 0,
      "outputs": []
    },
    {
      "cell_type": "code",
      "metadata": {
        "id": "hEFIjJ2LQcYg",
        "colab_type": "code",
        "colab": {}
      },
      "source": [
        "!cp /content/drive/My*Drive/Models/musemodel.zip /content/checkpoint"
      ],
      "execution_count": 0,
      "outputs": []
    },
    {
      "cell_type": "code",
      "metadata": {
        "id": "xkDPxgAPRtep",
        "colab_type": "code",
        "outputId": "cdf1610e-94ec-4d2e-82cb-0dd8e0aa3e47",
        "colab": {
          "base_uri": "https://localhost:8080/",
          "height": 218
        }
      },
      "source": [
        "!unzip /content/checkpoint/musemodel.zip"
      ],
      "execution_count": 0,
      "outputs": [
        {
          "output_type": "stream",
          "text": [
            "Archive:  /content/checkpoint/musemodel.zip\n",
            "   creating: content/checkpoint/\n",
            "   creating: content/checkpoint/run1/\n",
            "  inflating: content/checkpoint/run1/vocab.bpe  \n",
            "  inflating: content/checkpoint/run1/events.out.tfevents.1581086327.b485988a71f9  \n",
            "  inflating: content/checkpoint/run1/encoder.json  \n",
            "  inflating: content/checkpoint/run1/checkpoint  \n",
            "  inflating: content/checkpoint/run1/model-1000.meta  \n",
            "  inflating: content/checkpoint/run1/model-1000.index  \n",
            "  inflating: content/checkpoint/run1/model-1000.data-00000-of-00001  \n",
            " extracting: content/checkpoint/run1/counter  \n",
            "  inflating: content/checkpoint/run1/hparams.json  \n"
          ],
          "name": "stdout"
        }
      ]
    },
    {
      "cell_type": "markdown",
      "metadata": {
        "id": "YLl4zKuYvS17",
        "colab_type": "text"
      },
      "source": [
        "\n",
        "\n",
        "# Loading Weights"
      ]
    },
    {
      "cell_type": "code",
      "metadata": {
        "id": "lKa96IcQwd7F",
        "colab_type": "code",
        "colab": {}
      },
      "source": [
        "import tensorflow as tf\n",
        "\n",
        "tf.reset_default_graph()"
      ],
      "execution_count": 0,
      "outputs": []
    },
    {
      "cell_type": "code",
      "metadata": {
        "id": "_nvWSsviWMnC",
        "colab_type": "code",
        "colab": {}
      },
      "source": [
        "\n",
        "sess2 = gpt2.start_tf_sess()\n",
        "\n"
      ],
      "execution_count": 0,
      "outputs": []
    },
    {
      "cell_type": "code",
      "metadata": {
        "id": "6v3RWNlFyG-S",
        "colab_type": "code",
        "outputId": "c7bb693e-fa77-4fdc-dbb5-68c3b789b6e2",
        "colab": {
          "base_uri": "https://localhost:8080/",
          "height": 50
        }
      },
      "source": [
        "gpt2.load_gpt2(sess2,run_name =\"run1\")"
      ],
      "execution_count": 0,
      "outputs": [
        {
          "output_type": "stream",
          "text": [
            "Loading checkpoint checkpoint/run1/model-1000\n",
            "INFO:tensorflow:Restoring parameters from checkpoint/run1/model-1000\n"
          ],
          "name": "stdout"
        }
      ]
    },
    {
      "cell_type": "code",
      "metadata": {
        "id": "uFcBiipVvcxF",
        "colab_type": "code",
        "colab": {}
      },
      "source": [
        "t=gpt2.generate(sess2,\n",
        "              temperature=0.7,\n",
        "              top_k=40,\n",
        "              nsamples=1,\n",
        "              batch_size=1,\n",
        "              length=200,\n",
        "              prefix=\"<|startoftext|>~^~@\\nX: 25\\nT:Temple Song\\n% Nottingham Music Database\\nS:Bryon Bonnett, via PR\\nM:4/4\\nL:1/8\\nK:Emin\",\n",
        "              truncate=\"<|endoftext|>\",\n",
        "              include_prefix=False,\n",
        "              sample_delim='\\n',\n",
        "              return_as_list=True)[0]"
      ],
      "execution_count": 0,
      "outputs": []
    },
    {
      "cell_type": "code",
      "metadata": {
        "id": "yCln62AgwhjR",
        "colab_type": "code",
        "outputId": "7a60dde4-2c18-43aa-9052-5528583ffd76",
        "colab": {
          "base_uri": "https://localhost:8080/",
          "height": 218
        }
      },
      "source": [
        "print(t)"
      ],
      "execution_count": 0,
      "outputs": [
        {
          "output_type": "stream",
          "text": [
            "<|startoftext|>~^~@\n",
            "X: 25\n",
            "T:Temple Song\n",
            "% Nottingham Music Database\n",
            "S:Bryon Bonnett, via PR\n",
            "M:3/4\n",
            "L:1/8\n",
            "K:Eminem\n",
            "\"Bm\"BB \"Em\"GF|\"E7\"E2^G |\"E7\"FE \"A\"EF|\"A\"GE \"D\"FGF|\"A\"E4-|\n",
            "\"E7\"E2E |\"A\"EA \"E\"G3/2A/2|\"A\"BA,B, CD|\"A\"EA \"E\"G3/2A/2|\"A\"BA,B, G3/2A/2|\n",
            "\"E7\"BA,B, DG|\"A\"C3/2E/2 \"A7\"CE|\"A7\"cB AG|\"D\"FA2A|\"D\"BA \"E\"BA,B|\n",
            "\"A\"EA, \"E\"G3/2A/2|\"A\"BA,B, \"D\"GF|\"A\"E4-|\"E\n"
          ],
          "name": "stdout"
        }
      ]
    },
    {
      "cell_type": "code",
      "metadata": {
        "id": "_ni18397wHns",
        "colab_type": "code",
        "outputId": "3cccd6da-8eff-4754-feb9-f08b7ea52593",
        "colab": {
          "base_uri": "https://localhost:8080/",
          "height": 54
        }
      },
      "source": [
        "t"
      ],
      "execution_count": 0,
      "outputs": [
        {
          "output_type": "execute_result",
          "data": {
            "text/plain": [
              "'<|startoftext|>~^~@\\nX: 25\\nT:Temple Song\\n% Nottingham Music Database\\nS:Bryon Bonnett, via PR\\nM:3/4\\nL:1/8\\nK:C\\n\"C\"[c2E2][F2E2]|\"C\"[c3/2A3/2][F3/2A3/2]|[c3/2A3/2][F3/2A3/2]|\\\\\\n\"C\"[c2e2][F2e2]|[c3/2A3/2][F3/2A3/2]|\"C\"[c2e2][F2e2]|\\n[c3/2A3/2][F3/2A3/2]|\"C\"[c2e2][F2e2]|\\\\\\n\"C\"[c3/2A3/2][F3/2A3/2]|[c3/2A3/2][F3/2A3/2]|\\n\"C\"[c2e2][F2e2]'"
            ]
          },
          "metadata": {
            "tags": []
          },
          "execution_count": 19
        }
      ]
    },
    {
      "cell_type": "code",
      "metadata": {
        "id": "1BFyt43r-I5y",
        "colab_type": "code",
        "outputId": "6efb65f3-76f3-4e26-a95d-f4fbdc382c3d",
        "colab": {
          "base_uri": "https://localhost:8080/",
          "height": 67
        }
      },
      "source": [
        "\n",
        "gpt2.generate(sess2,\n",
        "              temperature=0.7,\n",
        "              top_k=40,\n",
        "              nsamples=1,\n",
        "              batch_size=1,\n",
        "              length=200,\n",
        "              prefix='<|startoftext|>~^~@\\nX: 25\\nT:Temple Song\\n% Nottingham Music Database\\nS:Bryon Bonnett, via PR\\nM:3/4\\nL:1/8\\nK:C\\n\"C\"[c2E2][F2E2]|\"C\"[c3/2A3/2][F3/2A3/2]|[c3/2A3/2][F3/2A3/2]|\\\\\\n\"C\"[c2e2][F2e2]|[c3/2A3/2][F3/2A3/2]|\"C\"[c2e2][F2e2]|\\n[c3/2A3/2][F3/2A3/2]|\"C\"[c2e2][F2e2]|\\\\\\n\"C\"[c3/2A3/2][F3/2A3/2]|[c3/2A3/2][F3/2A3/2]|\\n\"C\"[c2e2][F2e2]',\n",
        "              truncate=\"<|endoftext|>\",\n",
        "              include_prefix=False,\n",
        "              sample_delim='\\n')"
      ],
      "execution_count": 0,
      "outputs": [
        {
          "output_type": "stream",
          "text": [
            "|[c3/2A3/2][F3/2A3/2]|\"C\"[c2e2][F2e2]|\\\n",
            "[c3/2A3/2][F3/2A3/2]|\"C\"[c2e2][F2e2]|[c3/2A3/2][F3/2A3/2]|\n",
            "[c3/2A3/2][F3/2A3/2]|\"A\"[c2e2][F2e2]|[a2a2][A3a3a3]|[a2a2][A3a3a3]|\n"
          ],
          "name": "stdout"
        }
      ]
    },
    {
      "cell_type": "code",
      "metadata": {
        "id": "o3zNg8R3-JFH",
        "colab_type": "code",
        "colab": {}
      },
      "source": [
        "\n",
        "t=gpt2.generate(sess2,\n",
        "              temperature=0.7,\n",
        "              top_k=40,\n",
        "              nsamples=1,\n",
        "              batch_size=1,\n",
        "              length=200,\n",
        "              prefix=\"<|startoftext|>~^~@\\nX: 25\\nT:S.H. Reel\\n% Nottingham Music Database\\nS:Bryon Bonnett, via PR\\nM:4/4\\nL:1/4\\nK:G\",\n",
        "              truncate=\"<|endoftext|>\",\n",
        "              include_prefix=False,\n",
        "              sample_delim='\\n',\n",
        "              return_as_list=True)[0]"
      ],
      "execution_count": 0,
      "outputs": []
    },
    {
      "cell_type": "markdown",
      "metadata": {
        "id": "MqKwgLo9broN",
        "colab_type": "text"
      },
      "source": [
        "# Markov Chains"
      ]
    },
    {
      "cell_type": "code",
      "metadata": {
        "id": "pT0UV4Oxbt22",
        "colab_type": "code",
        "outputId": "ce4f2286-1d6d-48f6-a57a-d79c59765f1c",
        "colab": {
          "base_uri": "https://localhost:8080/",
          "height": 238
        }
      },
      "source": [
        "!pip install markovify"
      ],
      "execution_count": 0,
      "outputs": [
        {
          "output_type": "stream",
          "text": [
            "Collecting markovify\n",
            "  Downloading https://files.pythonhosted.org/packages/de/c3/2e017f687e47e88eb9d8adf970527e2299fb566eba62112c2851ebb7ab93/markovify-0.8.0.tar.gz\n",
            "Collecting unidecode\n",
            "\u001b[?25l  Downloading https://files.pythonhosted.org/packages/d0/42/d9edfed04228bacea2d824904cae367ee9efd05e6cce7ceaaedd0b0ad964/Unidecode-1.1.1-py2.py3-none-any.whl (238kB)\n",
            "\u001b[K     |████████████████████████████████| 245kB 14.9MB/s \n",
            "\u001b[?25hBuilding wheels for collected packages: markovify\n",
            "  Building wheel for markovify (setup.py) ... \u001b[?25l\u001b[?25hdone\n",
            "  Created wheel for markovify: filename=markovify-0.8.0-cp36-none-any.whl size=10694 sha256=e86100b6b62197fd7b3fd1b1e7fae77885c64f9d2c221c3a33e08f5fdd564aec\n",
            "  Stored in directory: /root/.cache/pip/wheels/5d/a8/92/35e2df870ff15a65657679dca105d190ec3c854a9f75435e40\n",
            "Successfully built markovify\n",
            "Installing collected packages: unidecode, markovify\n",
            "Successfully installed markovify-0.8.0 unidecode-1.1.1\n"
          ],
          "name": "stdout"
        }
      ]
    },
    {
      "cell_type": "code",
      "metadata": {
        "id": "LXuPRn77buTA",
        "colab_type": "code",
        "colab": {}
      },
      "source": [
        "import pandas as pd\n",
        "import markovify \n",
        "import os\n",
        "import requests"
      ],
      "execution_count": 0,
      "outputs": []
    },
    {
      "cell_type": "code",
      "metadata": {
        "id": "uaqSH2k7cdLG",
        "colab_type": "code",
        "colab": {}
      },
      "source": [
        "file_name = \"dat.csv\"\n",
        "if not os.path.isfile(file_name):\n",
        "\turl = \"https://raw.githubusercontent.com/AbhilashPal/weblab/master/dat.csv\"\n",
        "\tdata = requests.get(url)\n",
        "\t\n",
        "\twith open(file_name, 'w') as f:\n",
        "\t\tf.write(data.text)"
      ],
      "execution_count": 0,
      "outputs": []
    },
    {
      "cell_type": "code",
      "metadata": {
        "id": "Mid1rhbacj2u",
        "colab_type": "code",
        "outputId": "ef350704-6ec0-4020-9060-a056633709c8",
        "colab": {
          "base_uri": "https://localhost:8080/",
          "height": 136
        }
      },
      "source": [
        "inp = pd.read_csv('dat.csv')\n",
        "inp.head(3)"
      ],
      "execution_count": 0,
      "outputs": [
        {
          "output_type": "execute_result",
          "data": {
            "text/html": [
              "<div>\n",
              "<style scoped>\n",
              "    .dataframe tbody tr th:only-of-type {\n",
              "        vertical-align: middle;\n",
              "    }\n",
              "\n",
              "    .dataframe tbody tr th {\n",
              "        vertical-align: top;\n",
              "    }\n",
              "\n",
              "    .dataframe thead th {\n",
              "        text-align: right;\n",
              "    }\n",
              "</style>\n",
              "<table border=\"1\" class=\"dataframe\">\n",
              "  <thead>\n",
              "    <tr style=\"text-align: right;\">\n",
              "      <th></th>\n",
              "      <th>Unnamed: 0</th>\n",
              "      <th>text</th>\n",
              "    </tr>\n",
              "  </thead>\n",
              "  <tbody>\n",
              "    <tr>\n",
              "      <th>0</th>\n",
              "      <td>0</td>\n",
              "      <td>\\nX: 1\\nT:A and A's Waltz\\n% Nottingham Music ...</td>\n",
              "    </tr>\n",
              "    <tr>\n",
              "      <th>1</th>\n",
              "      <td>1</td>\n",
              "      <td>\\nX: 2\\nT:Barry's Favourite\\n% Nottingham Musi...</td>\n",
              "    </tr>\n",
              "    <tr>\n",
              "      <th>2</th>\n",
              "      <td>2</td>\n",
              "      <td>\\nX: 3\\nT:Black Boy\\n% Nottingham Music Databa...</td>\n",
              "    </tr>\n",
              "  </tbody>\n",
              "</table>\n",
              "</div>"
            ],
            "text/plain": [
              "   Unnamed: 0                                               text\n",
              "0           0  \\nX: 1\\nT:A and A's Waltz\\n% Nottingham Music ...\n",
              "1           1  \\nX: 2\\nT:Barry's Favourite\\n% Nottingham Musi...\n",
              "2           2  \\nX: 3\\nT:Black Boy\\n% Nottingham Music Databa..."
            ]
          },
          "metadata": {
            "tags": []
          },
          "execution_count": 26
        }
      ]
    },
    {
      "cell_type": "code",
      "metadata": {
        "id": "aNQ-ns-ZdQnp",
        "colab_type": "code",
        "colab": {}
      },
      "source": [
        "inp['text'] = inp['text'].map(lambda x:str(x).replace(\"\\n\",\" \"))"
      ],
      "execution_count": 0,
      "outputs": []
    },
    {
      "cell_type": "code",
      "metadata": {
        "id": "kWFk32x0eSoA",
        "colab_type": "code",
        "outputId": "903a52d7-e888-4321-a85c-73f98eb83f44",
        "colab": {
          "base_uri": "https://localhost:8080/",
          "height": 136
        }
      },
      "source": [
        "inp.head(3)"
      ],
      "execution_count": 0,
      "outputs": [
        {
          "output_type": "execute_result",
          "data": {
            "text/html": [
              "<div>\n",
              "<style scoped>\n",
              "    .dataframe tbody tr th:only-of-type {\n",
              "        vertical-align: middle;\n",
              "    }\n",
              "\n",
              "    .dataframe tbody tr th {\n",
              "        vertical-align: top;\n",
              "    }\n",
              "\n",
              "    .dataframe thead th {\n",
              "        text-align: right;\n",
              "    }\n",
              "</style>\n",
              "<table border=\"1\" class=\"dataframe\">\n",
              "  <thead>\n",
              "    <tr style=\"text-align: right;\">\n",
              "      <th></th>\n",
              "      <th>Unnamed: 0</th>\n",
              "      <th>text</th>\n",
              "    </tr>\n",
              "  </thead>\n",
              "  <tbody>\n",
              "    <tr>\n",
              "      <th>0</th>\n",
              "      <td>0</td>\n",
              "      <td>X: 1 T:A and A's Waltz % Nottingham Music Dat...</td>\n",
              "    </tr>\n",
              "    <tr>\n",
              "      <th>1</th>\n",
              "      <td>1</td>\n",
              "      <td>X: 2 T:Barry's Favourite % Nottingham Music D...</td>\n",
              "    </tr>\n",
              "    <tr>\n",
              "      <th>2</th>\n",
              "      <td>2</td>\n",
              "      <td>X: 3 T:Black Boy % Nottingham Music Database ...</td>\n",
              "    </tr>\n",
              "  </tbody>\n",
              "</table>\n",
              "</div>"
            ],
            "text/plain": [
              "   Unnamed: 0                                               text\n",
              "0           0   X: 1 T:A and A's Waltz % Nottingham Music Dat...\n",
              "1           1   X: 2 T:Barry's Favourite % Nottingham Music D...\n",
              "2           2   X: 3 T:Black Boy % Nottingham Music Database ..."
            ]
          },
          "metadata": {
            "tags": []
          },
          "execution_count": 30
        }
      ]
    },
    {
      "cell_type": "code",
      "metadata": {
        "id": "oGoLCbMUbwWC",
        "colab_type": "code",
        "colab": {}
      },
      "source": [
        "text_model = markovify.NewlineText(inp.text, state_size = 2)"
      ],
      "execution_count": 0,
      "outputs": []
    },
    {
      "cell_type": "code",
      "metadata": {
        "id": "pAd5ppBkcrNM",
        "colab_type": "code",
        "outputId": "6dc38328-0e52-42f8-8c97-270c1ae63a39",
        "colab": {
          "base_uri": "https://localhost:8080/",
          "height": 121
        }
      },
      "source": [
        "for i in range(5):\n",
        "    print(text_model.make_sentence())"
      ],
      "execution_count": 0,
      "outputs": [
        {
          "output_type": "stream",
          "text": [
            "None\n",
            "None\n",
            " X: 28 T:Sweet Jenny Jones % Nottingham Music Database S:Wolfstone, Arr EF/HJF M:6/8 K:Dm Ade fed|Bde fed|ege c2g|gfe dz2||\n",
            " X: 53 T:Billy's Forty Footer % Nottingham Music Database S:Adderbury M:3/4 L:1/4 Y:ABA K:C P:A A/2B/2|cGE|C3/2D/2E|FAd|BGB|cGE|F3/2G/2A|GcB|c2:| P:B c/2d/2|ece|dBG|cAc|BGc/2d/2|ece|dBG|cBA|G2||\n",
            "None\n"
          ],
          "name": "stdout"
        }
      ]
    },
    {
      "cell_type": "code",
      "metadata": {
        "id": "76gjuA9he36x",
        "colab_type": "code",
        "colab": {}
      },
      "source": [
        ""
      ],
      "execution_count": 0,
      "outputs": []
    }
  ]
}